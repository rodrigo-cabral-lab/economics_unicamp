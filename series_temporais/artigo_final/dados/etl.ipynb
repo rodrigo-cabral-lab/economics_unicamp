{
 "cells": [
  {
   "cell_type": "code",
   "execution_count": 1,
   "metadata": {},
   "outputs": [],
   "source": [
    "import pandas as pd\n",
    "import numpy as np \n",
    "import datetime \n"
   ]
  },
  {
   "cell_type": "code",
   "execution_count": 63,
   "metadata": {},
   "outputs": [],
   "source": [
    "#df1 = pd.read_excel('exportacao.xlsx')\n",
    "df2 = pd.read_excel('consumo_energia_industrial.xlsx')\n",
    "df3 = pd.read_excel('indice_comm_energia.xlsx')\n",
    "df4 = pd.read_excel('indice_ind_transf.xlsx')\n",
    "df5 = pd.read_excel('capacidade_instalada_ind.xlsx')\n",
    "df6 = pd.read_excel('credito_bndes.xlsx')\n",
    "#df7 = pd.read_excel('pib_setor_ind.xlsx')\n"
   ]
  },
  {
   "cell_type": "code",
   "execution_count": 64,
   "metadata": {},
   "outputs": [],
   "source": [
    "df2.set_index('data', inplace=True)\n",
    "df3.set_index('data', inplace=True)\n",
    "df4.set_index('data', inplace=True)\n",
    "df5.set_index('data', inplace=True)\n",
    "df6.set_index('data', inplace=True)"
   ]
  },
  {
   "cell_type": "code",
   "execution_count": 65,
   "metadata": {},
   "outputs": [
    {
     "data": {
      "text/html": [
       "<div>\n",
       "<style scoped>\n",
       "    .dataframe tbody tr th:only-of-type {\n",
       "        vertical-align: middle;\n",
       "    }\n",
       "\n",
       "    .dataframe tbody tr th {\n",
       "        vertical-align: top;\n",
       "    }\n",
       "\n",
       "    .dataframe thead th {\n",
       "        text-align: right;\n",
       "    }\n",
       "</style>\n",
       "<table border=\"1\" class=\"dataframe\">\n",
       "  <thead>\n",
       "    <tr style=\"text-align: right;\">\n",
       "      <th></th>\n",
       "      <th>bndes_system_disbursements_manufacturing_industry(mm)</th>\n",
       "    </tr>\n",
       "    <tr>\n",
       "      <th>data</th>\n",
       "      <th></th>\n",
       "    </tr>\n",
       "  </thead>\n",
       "  <tbody>\n",
       "    <tr>\n",
       "      <th>1995-01-01</th>\n",
       "      <td>175.0</td>\n",
       "    </tr>\n",
       "    <tr>\n",
       "      <th>1995-02-01</th>\n",
       "      <td>407.0</td>\n",
       "    </tr>\n",
       "  </tbody>\n",
       "</table>\n",
       "</div>"
      ],
      "text/plain": [
       "            bndes_system_disbursements_manufacturing_industry(mm)\n",
       "data                                                             \n",
       "1995-01-01                                              175.0    \n",
       "1995-02-01                                              407.0    "
      ]
     },
     "execution_count": 65,
     "metadata": {},
     "output_type": "execute_result"
    }
   ],
   "source": [
    "df6.head(2)"
   ]
  },
  {
   "cell_type": "code",
   "execution_count": 68,
   "metadata": {},
   "outputs": [
    {
     "data": {
      "text/html": [
       "<div>\n",
       "<style scoped>\n",
       "    .dataframe tbody tr th:only-of-type {\n",
       "        vertical-align: middle;\n",
       "    }\n",
       "\n",
       "    .dataframe tbody tr th {\n",
       "        vertical-align: top;\n",
       "    }\n",
       "\n",
       "    .dataframe thead th {\n",
       "        text-align: right;\n",
       "    }\n",
       "</style>\n",
       "<table border=\"1\" class=\"dataframe\">\n",
       "  <thead>\n",
       "    <tr style=\"text-align: right;\">\n",
       "      <th></th>\n",
       "      <th>energia_industrial</th>\n",
       "      <th>indic_comm_energ</th>\n",
       "      <th>indic_ind_transf</th>\n",
       "      <th>capacity_ind</th>\n",
       "      <th>credit_bndes</th>\n",
       "    </tr>\n",
       "    <tr>\n",
       "      <th>data</th>\n",
       "      <th></th>\n",
       "      <th></th>\n",
       "      <th></th>\n",
       "      <th></th>\n",
       "      <th></th>\n",
       "    </tr>\n",
       "  </thead>\n",
       "  <tbody>\n",
       "    <tr>\n",
       "      <th>2022-12-01</th>\n",
       "      <td>14.933</td>\n",
       "      <td>248.03</td>\n",
       "      <td>99.5</td>\n",
       "      <td>79.6</td>\n",
       "      <td>18.89</td>\n",
       "    </tr>\n",
       "    <tr>\n",
       "      <th>2023-01-01</th>\n",
       "      <td>14.942</td>\n",
       "      <td>210.31</td>\n",
       "      <td>98.7</td>\n",
       "      <td>78.8</td>\n",
       "      <td>NaN</td>\n",
       "    </tr>\n",
       "  </tbody>\n",
       "</table>\n",
       "</div>"
      ],
      "text/plain": [
       "            energia_industrial  indic_comm_energ  indic_ind_transf  \\\n",
       "data                                                                 \n",
       "2022-12-01              14.933            248.03              99.5   \n",
       "2023-01-01              14.942            210.31              98.7   \n",
       "\n",
       "            capacity_ind  credit_bndes  \n",
       "data                                    \n",
       "2022-12-01          79.6         18.89  \n",
       "2023-01-01          78.8           NaN  "
      ]
     },
     "execution_count": 68,
     "metadata": {},
     "output_type": "execute_result"
    }
   ],
   "source": [
    "df = df2[['energia_industrial']]\n",
    "df['indic_comm_energ'] = df3[['commodity_index_brazil_energy']]\n",
    "df['indic_ind_transf'] = df4[['indice_ind_transf']]\n",
    "df['capacity_ind'] = df5[['capacity_utilization_manufacturing_industry_seasonally_adjusted_%_fgv']]\n",
    "df['credit_bndes'] = df6[['bndes_system_disbursements_manufacturing_industry(mm)']]\n",
    "df.tail(2)"
   ]
  },
  {
   "cell_type": "code",
   "execution_count": 69,
   "metadata": {},
   "outputs": [],
   "source": [
    "df.dropna(inplace=True)"
   ]
  },
  {
   "cell_type": "code",
   "execution_count": 72,
   "metadata": {},
   "outputs": [
    {
     "data": {
      "text/html": [
       "<div>\n",
       "<style scoped>\n",
       "    .dataframe tbody tr th:only-of-type {\n",
       "        vertical-align: middle;\n",
       "    }\n",
       "\n",
       "    .dataframe tbody tr th {\n",
       "        vertical-align: top;\n",
       "    }\n",
       "\n",
       "    .dataframe thead th {\n",
       "        text-align: right;\n",
       "    }\n",
       "</style>\n",
       "<table border=\"1\" class=\"dataframe\">\n",
       "  <thead>\n",
       "    <tr style=\"text-align: right;\">\n",
       "      <th></th>\n",
       "      <th>energia_industrial</th>\n",
       "      <th>indic_comm_energ</th>\n",
       "      <th>indic_ind_transf</th>\n",
       "      <th>capacity_ind</th>\n",
       "      <th>credit_bndes</th>\n",
       "    </tr>\n",
       "    <tr>\n",
       "      <th>data</th>\n",
       "      <th></th>\n",
       "      <th></th>\n",
       "      <th></th>\n",
       "      <th></th>\n",
       "      <th></th>\n",
       "    </tr>\n",
       "  </thead>\n",
       "  <tbody>\n",
       "    <tr>\n",
       "      <th>2002-01-01</th>\n",
       "      <td>9.431</td>\n",
       "      <td>34.15</td>\n",
       "      <td>91.8</td>\n",
       "      <td>79.8</td>\n",
       "      <td>1.024</td>\n",
       "    </tr>\n",
       "    <tr>\n",
       "      <th>2002-02-01</th>\n",
       "      <td>9.919</td>\n",
       "      <td>33.19</td>\n",
       "      <td>94.1</td>\n",
       "      <td>79.4</td>\n",
       "      <td>1.792</td>\n",
       "    </tr>\n",
       "    <tr>\n",
       "      <th>2002-03-01</th>\n",
       "      <td>10.362</td>\n",
       "      <td>35.93</td>\n",
       "      <td>93.2</td>\n",
       "      <td>79.3</td>\n",
       "      <td>2.401</td>\n",
       "    </tr>\n",
       "    <tr>\n",
       "      <th>2002-04-01</th>\n",
       "      <td>10.762</td>\n",
       "      <td>37.97</td>\n",
       "      <td>93.5</td>\n",
       "      <td>79.0</td>\n",
       "      <td>3.204</td>\n",
       "    </tr>\n",
       "    <tr>\n",
       "      <th>2002-05-01</th>\n",
       "      <td>10.920</td>\n",
       "      <td>41.21</td>\n",
       "      <td>93.4</td>\n",
       "      <td>78.7</td>\n",
       "      <td>4.903</td>\n",
       "    </tr>\n",
       "  </tbody>\n",
       "</table>\n",
       "</div>"
      ],
      "text/plain": [
       "            energia_industrial  indic_comm_energ  indic_ind_transf  \\\n",
       "data                                                                 \n",
       "2002-01-01               9.431             34.15              91.8   \n",
       "2002-02-01               9.919             33.19              94.1   \n",
       "2002-03-01              10.362             35.93              93.2   \n",
       "2002-04-01              10.762             37.97              93.5   \n",
       "2002-05-01              10.920             41.21              93.4   \n",
       "\n",
       "            capacity_ind  credit_bndes  \n",
       "data                                    \n",
       "2002-01-01          79.8         1.024  \n",
       "2002-02-01          79.4         1.792  \n",
       "2002-03-01          79.3         2.401  \n",
       "2002-04-01          79.0         3.204  \n",
       "2002-05-01          78.7         4.903  "
      ]
     },
     "execution_count": 72,
     "metadata": {},
     "output_type": "execute_result"
    }
   ],
   "source": [
    "df.head()"
   ]
  },
  {
   "cell_type": "code",
   "execution_count": 73,
   "metadata": {},
   "outputs": [],
   "source": [
    "df.to_pickle('dados_economicos_industria.pkl')"
   ]
  }
 ],
 "metadata": {
  "kernelspec": {
   "display_name": "base",
   "language": "python",
   "name": "python3"
  },
  "language_info": {
   "codemirror_mode": {
    "name": "ipython",
    "version": 3
   },
   "file_extension": ".py",
   "mimetype": "text/x-python",
   "name": "python",
   "nbconvert_exporter": "python",
   "pygments_lexer": "ipython3",
   "version": "3.8.8"
  },
  "orig_nbformat": 4
 },
 "nbformat": 4,
 "nbformat_minor": 2
}
