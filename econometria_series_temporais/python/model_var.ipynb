{
 "cells": [
  {
   "cell_type": "code",
   "execution_count": 1,
   "metadata": {},
   "outputs": [
    {
     "name": "stderr",
     "output_type": "stream",
     "text": [
      "c:\\Users\\Rodrigo\\anaconda3\\lib\\site-packages\\numpy\\_distributor_init.py:30: UserWarning: loaded more than 1 DLL from .libs:\n",
      "c:\\Users\\Rodrigo\\anaconda3\\lib\\site-packages\\numpy\\.libs\\libopenblas.GK7GX5KEQ4F6UYO3P26ULGBQYHGQO7J4.gfortran-win_amd64.dll\n",
      "c:\\Users\\Rodrigo\\anaconda3\\lib\\site-packages\\numpy\\.libs\\libopenblas64__v0.3.21-gcc_10_3_0.dll\n",
      "  warnings.warn(\"loaded more than 1 DLL from .libs:\"\n"
     ]
    },
    {
     "name": "stdout",
     "output_type": "stream",
     "text": [
      "Model stability: True\n"
     ]
    }
   ],
   "source": [
    "import numpy as np\n",
    "import statsmodels.api as sm\n",
    "\n",
    "# Generate some random data\n",
    "np.random.seed(0)\n",
    "n_samples = 100\n",
    "n_variables = 3\n",
    "data = np.random.randn(n_samples, n_variables)\n",
    "\n",
    "# Fit the VAR model\n",
    "model = sm.tsa.VAR(data)\n",
    "results = model.fit()\n",
    "\n",
    "# Check stability\n",
    "is_stable = results.is_stable()\n",
    "print(\"Model stability:\", is_stable)"
   ]
  },
  {
   "cell_type": "code",
   "execution_count": 4,
   "metadata": {},
   "outputs": [
    {
     "name": "stdout",
     "output_type": "stream",
     "text": [
      "DV01: 0.0\n"
     ]
    }
   ],
   "source": [
    "import numpy as np\n",
    "\n",
    "# Define the Monte Carlo simulation object\n",
    "class MonteCarloSimulation:\n",
    "    def __init__(self, num_simulations, yield_curve):\n",
    "        self.num_simulations = num_simulations\n",
    "        self.yield_curve = yield_curve\n",
    "        self.present_values = np.zeros(num_simulations)\n",
    "\n",
    "    def run_simulation(self):\n",
    "        for i in range(self.num_simulations):\n",
    "            # Perform simulation and calculate present value\n",
    "            # Your simulation code goes here\n",
    "            self.present_values[i] = 1000\n",
    "\n",
    "    def calculate_dv01(self, yield_change):\n",
    "        # Copy the original yield curve\n",
    "        yield_curve_copy = np.copy(self.yield_curve)\n",
    "        \n",
    "        # Calculate present value before the yield change\n",
    "        self.run_simulation()\n",
    "        pv_before = np.mean(self.present_values)\n",
    "\n",
    "        # Apply the yield change to the yield curve\n",
    "        yield_curve_copy += yield_change\n",
    "\n",
    "        # Update the yield curve and re-run the simulation\n",
    "        self.yield_curve = yield_curve_copy\n",
    "        self.run_simulation()\n",
    "\n",
    "        # Calculate present value after the yield change\n",
    "        pv_after = np.mean(self.present_values)\n",
    "\n",
    "        # Calculate the DV01\n",
    "        dv01 = (pv_before - pv_after) / yield_change\n",
    "\n",
    "        return dv01\n",
    "\n",
    "\n",
    "# Example usage\n",
    "num_simulations = 1000\n",
    "yield_curve = np.array([0.02, 0.025, 0.03, 0.035, 0.04])  # Example yield curve\n",
    "\n",
    "# Create the Monte Carlo simulation object\n",
    "mc_simulation = MonteCarloSimulation(num_simulations, yield_curve)\n",
    "\n",
    "# Run the initial simulation\n",
    "mc_simulation.run_simulation()\n",
    "\n",
    "# Calculate the DV01 for a 0.01 change in yield\n",
    "yield_change = 0.01\n",
    "dv01 = mc_simulation.calculate_dv01(yield_change)\n",
    "\n",
    "# Print the DV01\n",
    "print(\"DV01:\", dv01)"
   ]
  },
  {
   "cell_type": "code",
   "execution_count": 5,
   "metadata": {},
   "outputs": [
    {
     "ename": "NameError",
     "evalue": "name 'credit_risk_measure' is not defined",
     "output_type": "error",
     "traceback": [
      "\u001b[1;31m---------------------------------------------------------------------------\u001b[0m",
      "\u001b[1;31mNameError\u001b[0m                                 Traceback (most recent call last)",
      "\u001b[1;32m<ipython-input-5-46601e158819>\u001b[0m in \u001b[0;36m<module>\u001b[1;34m\u001b[0m\n\u001b[0;32m     27\u001b[0m \u001b[1;33m\u001b[0m\u001b[0m\n\u001b[0;32m     28\u001b[0m     \u001b[1;31m# Calculate the credit risk measure for the current set of input variables\u001b[0m\u001b[1;33m\u001b[0m\u001b[1;33m\u001b[0m\u001b[1;33m\u001b[0m\u001b[0m\n\u001b[1;32m---> 29\u001b[1;33m     \u001b[0mcredit_risk_measures\u001b[0m\u001b[1;33m[\u001b[0m\u001b[0mi\u001b[0m\u001b[1;33m]\u001b[0m \u001b[1;33m=\u001b[0m \u001b[0mcredit_risk_model\u001b[0m\u001b[1;33m(\u001b[0m\u001b[1;33m[\u001b[0m\u001b[0mvariable1\u001b[0m\u001b[1;33m,\u001b[0m \u001b[0mvariable2\u001b[0m\u001b[1;33m]\u001b[0m\u001b[1;33m)\u001b[0m\u001b[1;33m\u001b[0m\u001b[1;33m\u001b[0m\u001b[0m\n\u001b[0m\u001b[0;32m     30\u001b[0m     \u001b[1;31m# Add more input variables as needed\u001b[0m\u001b[1;33m\u001b[0m\u001b[1;33m\u001b[0m\u001b[1;33m\u001b[0m\u001b[0m\n\u001b[0;32m     31\u001b[0m \u001b[1;33m\u001b[0m\u001b[0m\n",
      "\u001b[1;32m<ipython-input-5-46601e158819>\u001b[0m in \u001b[0;36mcredit_risk_model\u001b[1;34m(input_variables)\u001b[0m\n\u001b[0;32m      6\u001b[0m     \u001b[1;31m# based on the input variables\u001b[0m\u001b[1;33m\u001b[0m\u001b[1;33m\u001b[0m\u001b[1;33m\u001b[0m\u001b[0m\n\u001b[0;32m      7\u001b[0m     \u001b[1;31m# Your credit risk model code goes here\u001b[0m\u001b[1;33m\u001b[0m\u001b[1;33m\u001b[0m\u001b[1;33m\u001b[0m\u001b[0m\n\u001b[1;32m----> 8\u001b[1;33m     \u001b[1;32mreturn\u001b[0m \u001b[0mcredit_risk_measure\u001b[0m\u001b[1;33m\u001b[0m\u001b[1;33m\u001b[0m\u001b[0m\n\u001b[0m\u001b[0;32m      9\u001b[0m \u001b[1;33m\u001b[0m\u001b[0m\n\u001b[0;32m     10\u001b[0m \u001b[1;31m# Define the number of Monte Carlo simulations\u001b[0m\u001b[1;33m\u001b[0m\u001b[1;33m\u001b[0m\u001b[1;33m\u001b[0m\u001b[0m\n",
      "\u001b[1;31mNameError\u001b[0m: name 'credit_risk_measure' is not defined"
     ]
    }
   ],
   "source": [
    "import numpy as np\n",
    "\n",
    "# Define the credit risk model\n",
    "def credit_risk_model(input_variables):\n",
    "    # Perform calculations and return the credit risk measure (e.g., probability of default)\n",
    "    # based on the input variables\n",
    "    # Your credit risk model code goes here\n",
    "    return credit_risk_measure\n",
    "\n",
    "# Define the number of Monte Carlo simulations\n",
    "num_simulations = 1000\n",
    "\n",
    "# Define the input variables for sensitivity analysis\n",
    "variable1_values = np.linspace(0.9, 1.1, num_simulations)\n",
    "variable2_values = np.linspace(0.8, 1.2, num_simulations)\n",
    "# Add more input variables as needed\n",
    "\n",
    "# Create an empty array to store the credit risk measures for each simulation\n",
    "credit_risk_measures = np.zeros(num_simulations)\n",
    "\n",
    "# Run the Monte Carlo simulation\n",
    "for i in range(num_simulations):\n",
    "    # Generate random values for the input variables\n",
    "    variable1 = np.random.choice(variable1_values)\n",
    "    variable2 = np.random.choice(variable2_values)\n",
    "    # Generate more random values for additional input variables\n",
    "    \n",
    "    # Calculate the credit risk measure for the current set of input variables\n",
    "    credit_risk_measures[i] = credit_risk_model([variable1, variable2])\n",
    "    # Add more input variables as needed\n",
    "\n",
    "# Calculate the sensitivity metrics (e.g., mean, standard deviation) for the credit risk measures\n",
    "mean_credit_risk = np.mean(credit_risk_measures)\n",
    "std_credit_risk = np.std(credit_risk_measures)\n",
    "\n",
    "# Print the sensitivity metrics\n",
    "print(\"Mean credit risk:\", mean_credit_risk)\n",
    "print(\"Standard deviation of credit risk:\", std_credit_risk)"
   ]
  }
 ],
 "metadata": {
  "kernelspec": {
   "display_name": "base",
   "language": "python",
   "name": "python3"
  },
  "language_info": {
   "codemirror_mode": {
    "name": "ipython",
    "version": 3
   },
   "file_extension": ".py",
   "mimetype": "text/x-python",
   "name": "python",
   "nbconvert_exporter": "python",
   "pygments_lexer": "ipython3",
   "version": "3.8.8"
  },
  "orig_nbformat": 4
 },
 "nbformat": 4,
 "nbformat_minor": 2
}
